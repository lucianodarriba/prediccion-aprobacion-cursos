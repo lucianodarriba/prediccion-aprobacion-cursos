{
 "cells": [
  {
   "cell_type": "markdown",
   "metadata": {},
   "source": [
    "# 🏠 Análisis Exploratorio de Datos - Mercado Inmobiliario\n",
    "\n",
    "**Objetivo:** Entender las características del dataset de propiedades y identificar patrones clave para el modelo predictivo.\n",
    "\n",
    "**Fecha:** Junio 2025  \n",
    "**Autor:** Tu Nombre"
   ]
  },
  {
   "cell_type": "markdown",
   "metadata": {},
   "source": [
    "## 📋 Tabla de Contenido\n",
    "\n",
    "1. [Carga de Datos](#1-carga-de-datos)\n",
    "2. [Información General](#2-información-general)\n",
    "3. [Análisis Univariado](#3-análisis-univariado)\n",
    "4. [Análisis Bivariado](#4-análisis-bivariado)\n",
    "5. [Detección de Outliers](#5-detección-de-outliers)\n",
    "6. [Correlaciones](#6-correlaciones)\n",
    "7. [Conclusiones](#7-conclusiones)"
   ]
  },
  {
   "cell_type": "code",
   "execution_count": null,
   "metadata": {},
   "outputs": [],
   "source": [
    "# Importar librerías necesarias\n",
    "import pandas as pd\n",
    "import numpy as np\n",
    "import matplotlib.pyplot as plt\n",
    "import seaborn as sns\n",
    "from scipy import stats\n",
    "import warnings\n",
    "warnings.filterwarnings('ignore')\n",
    "\n",
    "# Configuración de visualización\n",
    "plt.style.use('seaborn-v0_8')\n",
    "sns.set_palette(\"husl\")\n",
    "plt.rcParams['figure.figsize'] = (12, 6)\n",
    "plt.rcParams['font.size'] = 10\n",
    "\n",
    "print(\"📚 Librerías importadas exitosamente\")"
   ]
  },
  {
   "cell_type": "markdown",
   "metadata": {},
   "source": [
    "## 1. Carga de Datos"
   ]
  },
  {
   "cell_type": "code",
   "execution_count": null,
   "metadata": {},
   "outputs": [],
   "source": [
    "# Cargar dataset\n",
    "df = pd.read_csv('../data/sample.csv')\n",
    "\n",
    "print(f\"📊 Dataset cargado exitosamente\")\n",
    "print(f\"Forma del dataset: {df.shape[0]} filas x {df.shape[1]} columnas\")\n",
    "print(f\"Período de datos: {df['fecha_publicacion'].min()} a {df['fecha_publicacion'].max()}\")"
   ]
  },
  {
   "cell_type": "markdown",
   "metadata": {},
   "source": [
    "## 2. Información General"
   ]
  },
  {
   "cell_type": "code",
   "execution_count": null,
   "metadata": {},
   "outputs": [],
   "source": [
    "# Vista general del dataset\n",
    "df.head()"
   ]
  },
  {
   "cell_type": "code",
   "execution_count": null,
   "metadata": {},
   "outputs": [],
   "source": [
    "# Información detallada\n",
    "print(\"🔍 INFORMACIÓN DEL DATASET\")\n",
    "print(\"=\" * 40)\n",
    "df.info()"
   ]
  },
  {
   "cell_type": "code",
   "execution_count": null,
   "metadata": {},
   "outputs": [],
   "source": [
    "# Estadísticas descriptivas\n",
    "print(\"📈 ESTADÍSTICAS DESCRIPTIVAS\")\n",
    "print(\"=\" * 40)\n",
    "df.describe()"
   ]
  },
  {
   "cell_type": "code",
   "execution_count": null,
   "metadata": {},
   "outputs": [],
   "source": [
    "# Valores faltantes\n",
    "missing_data = df.isnull().sum()\n",
    "missing_percent = (missing_data / len(df)) * 100\n",
    "\n",
    "missing_df = pd.DataFrame({\n",
    "    'Columna': missing_data.index,\n",
    "    'Valores Faltantes': missing_data.values,\n",
    "    'Porcentaje': missing_percent.values\n",
    "})\n",
    "\n",
    "print(\"❌ VALORES FALTANTES\")\n",
    "print(\"=\" * 40)\n",
    "print(missing_df[missing_df['Valores Faltantes'] > 0].sort_values('Porcentaje', ascending=False))"
   ]
  },
  {
   "cell_type": "markdown",
   "metadata": {},
   "source": [
    "## 3. Análisis Univariado\n",
    "\n",
    "### 3.1 Variable Objetivo: Precio"
   ]
  },
  {
   "cell_type": "code",
   "execution_count": null,
   "metadata": {},
   "outputs": [],
   "source": [
    "# Distribución del precio\n",
    "fig, axes = plt.subplots(1, 2, figsize=(15, 5))\n",
    "\n",
    "# Histograma\n",
    "axes[0].hist(df['precio'], bins=50, edgecolor='black', alpha=0.7)\n",
    "axes[0].set_title('📊 Distribución de Precios', fontsize=14)\n",
    "axes[0].set_xlabel('Precio (USD)')\n",
    "axes[0].set_ylabel('Frecuencia')\n",
    "axes[0].grid(True, alpha=0.3)\n",
    "\n",
    "# Box plot\n",
    "axes[1].boxplot(df['precio'])\n",
    "axes[1].set_title('📦 Box Plot - Precios', fontsize=14)\n",
    "axes[1].set_ylabel('Precio (USD)')\n",
    "axes[1].grid(True, alpha=0.3)\n",
    "\n",
    "plt.tight_layout()\n",
    "plt.show()\n",
    "\n",
    "# Estadísticas del precio\n",
    "print(f\"💰 Precio promedio: ${df['precio'].mean():,.0f} USD\")\n",
    "print(f\"📊 Precio mediano: ${df['precio'].median():,.0f} USD\")\n",
    "print(f\"📈 Precio máximo: ${df['precio'].max():,.0f} USD\")\n",
    "print(f\"📉 Precio mínimo: ${df['precio'].min():,.0f} USD\")"
   ]
  },
  {
   "cell_type": "markdown",
   "metadata": {},
   "source": [
    "### 3.2 Variables Categóricas"
   ]
  },
  {
   "cell_type": "code",
   "execution_count": null,
   "metadata": {},
   "outputs": [],
   "source": [
    "# Distribución por tipo de propiedad\n",
    "plt.figure(figsize=(10, 6))\n",
    "tipo_counts = df['tipo_propiedad'].value_counts()\n",
    "\n",
    "plt.pie(tipo_counts.values, labels=tipo_counts.index, autopct='%1.1f%%', startangle=90)\n",
    "plt.title('🏢 Distribución por Tipo de Propiedad', fontsize=14)\n",
    "plt.axis('equal')\n",
    "plt.show()\n",
    "\n",
    "print(\"🏠 TIPOS DE PROPIEDAD:\")\n",
    "for tipo, count in tipo_counts.items():\n",
    "    print(f\"  {tipo}: {count} propiedades ({count/len(df)*100:.1f}%)\")"
   ]
  },
  {
   "cell_type": "code",
   "execution_count": null,
   "metadata": {},
   "outputs": [],
   "source": [
    "# Top 10 barrios con más propiedades\n",
    "plt.figure(figsize=(12, 6))\n",
    "top_barrios = df['barrio'].value_counts().head(10)\n",
    "\n",
    "sns.barplot(x=top_barrios.values, y=top_barrios.index, palette='viridis')\n",
    "plt.title('🗺️ Top 10 Barrios con Más Propiedades', fontsize=14)\n",
    "plt.xlabel('Cantidad de Propiedades')\n",
    "plt.ylabel('Barrio')\n",
    "\n",
    "# Agregar valores en las barras\n",
    "for i, v in enumerate(top_barrios.values):\n",
    "    plt.text(v + 1, i, str(v), va='center')\n",
    "\n",
    "plt.tight_layout()\n",
    "plt.show()"
   ]
  },
  {
   "cell_type": "markdown",
   "metadata": {},
   "source": [
    "## 4. Análisis Bivariado\n",
    "\n",
    "### 4.1 Precio vs Superficie"
   ]
  },
  {
   "cell_type": "code",
   "execution_count": null,
   "metadata": {},
   "outputs": [],
   "source": [
    "# Scatter plot: Precio vs Superficie\n",
    "plt.figure(figsize=(12, 8))\n",
    "\n",
    "# Scatter plot con regresión\n",
    "sns.scatterplot(data=df, x='superficie', y='precio', hue='tipo_propiedad', alpha=0.6)\n",
    "sns.regplot(data=df, x='superficie', y='precio', scatter=False, color='red', line_kws={'linewidth': 2})\n",
    "\n",
    "plt.title('🏠 Relación entre Superficie y Precio', fontsize=16)\n",
    "plt.xlabel('Superficie (m²)')\n",
    "plt.ylabel('Precio (USD)')\n",
    "plt.legend(title='Tipo de Propiedad', bbox_to_anchor=(1.05, 1), loc='upper left')\n",
    "plt.grid(True, alpha=0.3)\n",
    "plt.tight_layout()\n",
    "plt.show()\n",
    "\n",
    "# Correlación\n",
    "correlacion = df['precio'].corr(df['superficie'])\n",
    "print(f\"🔗 Correlación Precio-Superficie: {correlacion:.3f}\")"
   ]
  },
  {
   "cell_type": "markdown",
   "metadata": {},
   "source": [
    "### 4.2 Precio por Barrio"
   ]
  },
  {
   "cell_type": "code",
   "execution_count": null,
   "metadata": {},
   "outputs": [],
   "source": [
    "# Precio promedio por barrio (top 15)\n",
    "precio_por_barrio = df.groupby('barrio')['precio'].agg(['mean', 'count']).reset_index()\n",
    "precio_por_barrio = precio_por_barrio[precio_por_barrio['count'] >= 5]  # Solo barrios con 5+ propiedades\n",
    "precio_por_barrio = precio_por_barrio.sort_values('mean', ascending=False).head(15)\n",
    "\n",
    "plt.figure(figsize=(14, 8))\n",
    "sns.barplot(data=precio_por_barrio, x='mean', y='barrio', palette='coolwarm')\n",
    "plt.title('💰 Precio Promedio por Barrio (Top 15)', fontsize=16)\n",
    "plt.xlabel('Precio Promedio (USD)')\n",
    "plt.ylabel('Barrio')\n",
    "\n",
    "# Agregar valores\n",
    "for i, v in enumerate(precio_por_barrio['mean']):\n",
    "    plt.text(v + 5000, i, f'${v:,.0f}', va='center')\n",
    "\n",
    "plt.tight_layout()\n",
    "plt.show()"
   ]
  },
  {
   "cell_type": "markdown",
   "metadata": {},
   "source": [
    "## 5. Detección de Outliers"
   ]
  },
  {
   "cell_type": "code",
   "execution_count": null,
   "metadata": {},
   "outputs": [],
   "source": [
    "# Detectar outliers en precio usando IQR\n",
    "Q1 = df['precio'].quantile(0.25)\n",
    "Q3 = df['precio'].quantile(0.75)\n",
    "IQR = Q3 - Q1\n",
    "lower_bound = Q1 - 1.5 * IQR\n",
    "upper_bound = Q3 + 1.5 * IQR\n",
    "\n",
    "outliers = df[(df['precio'] < lower_bound) | (df['precio'] > upper_bound)]\n",
    "\n",
    "print(f\"⚠️ OUTLIERS DETECTADOS\")\n",
    "print(f\"Total de outliers: {len(outliers)} ({len(outliers)/len(df)*100:.1f}% del dataset)\")\n",
    "print(f\"Rango normal de precios: ${lower_bound:,.0f} - ${upper_bound:,.0f}\")\n",
    "print(f\"Precio más alto (outlier): ${outliers['precio'].max():,.0f}\")\n",
    "\n",
    "# Visualizar outliers\n",
    "plt.figure(figsize=(12, 6))\n",
    "plt.subplot(1, 2, 1)\n",
    "plt.boxplot(df['precio'])\n",
    "plt.title('📦 Box Plot - Con Outliers')\n",
    "plt.ylabel('Precio (USD)')\n",
    "\n",
    "plt.subplot(1, 2, 2)\n",
    "df_sin_outliers = df[(df['precio'] >= lower_bound) & (df['precio'] <= upper_bound)]\n",
    "plt.boxplot(df_sin_outliers['precio'])\n",
    "plt.title('📦 Box Plot - Sin Outliers')\n",
    "plt.ylabel('Precio (USD)')\n",
    "\n",
    "plt.tight_layout()\n",
    "plt.show()"
   ]
  },
  {
   "cell_type": "markdown",
   "metadata": {},
   "source": [
    "## 6. Correlaciones"
   ]
  },
  {
   "cell_type": "code",
   "execution_count": null,
   "metadata": {},
   "outputs": [],
   "source": [
    "# Matriz de correlación para variables numéricas\n",
    "numeric_cols = df.select_dtypes(include=[np.number]).columns\n",
    "correlation_matrix = df[numeric_cols].corr()\n",
    "\n",
    "plt.figure(figsize=(10, 8))\n",
    "mask = np.triu(np.ones_like(correlation_matrix, dtype=bool))\n",
    "sns.heatmap(correlation_matrix, mask=mask, annot=True, cmap='coolwarm', center=0,\n",
    "            square=True, fmt='.2f', cbar_kws={'shrink': .8})\n",
    "plt.title('🔗 Matriz de Correlación', fontsize=16)\n",
    "plt.tight_layout()\n",
    "plt.show()\n",
    "\n",
    "# Top correlaciones con precio\n",
    "precio_corr = correlation_matrix['precio'].abs().sort_values(ascending=False)\n",
    "print(\"📊 CORRELACIONES CON PRECIO:\")\n",
    "for var, corr in precio_corr.items():\n",
    "    if var != 'precio':\n",
    "        print(f\"  {var}: {corr:.3f}\")"
   ]
  },
  {
   "cell_type": "markdown",
   "metadata": {},
   "source": [
    "## 7. Conclusiones\n",
    "\n",
    "### 📋 Hallazgos Clave:\n",
    "\n",
    "1. **Distribución de Precios:**\n",
    "   - El precio promedio es de $XXX,XXX USD\n",
    "   - La distribución está sesgada hacia la derecha (cola larga)\n",
    "   - Existen outliers extremos que requieren tratamiento\n",
    "\n",
    "2. **Variables Más Importantes:**\n",
    "   - Superficie: Correlación fuerte con el precio\n",
    "   - Ubicación: Los barrios premium tienen precios 3x más altos\n",
    "   - Tipo de propiedad: Casas > Departamentos > PH\n",
    "\n",
    "3. **Calidad de Datos:**\n",
    "   - Dataset relativamente limpio (< 5% valores faltantes)\n",
    "   - Outliers identificados (X% del dataset)\n",
    "   - Variables categóricas necesitan encoding\n",
    "\n",
    "### 🚀 Próximos Pasos:\n",
    "\n",
    "- [ ] Limpiar outliers extremos\n",
    "- [ ] Feature engineering (precio por m², antigüedad, etc.)\n",
    "- [ ] Encoding de variables categóricas\n",
    "- [ ] Selección de features para el modelo\n",
    "- [ ] Split train/test estratificado por barrio"
   ]
  },
  {
   "cell_type": "code",
   "execution_count": null,
   "metadata": {},
   "outputs": [],
   "source": [
    "# Guardar dataset limpio para siguiente notebook\n",
    "df_clean = df[(df['precio'] >= lower_bound) & (df['precio'] <= upper_bound)]\n",
    "df_clean.to_csv('../data/processed/propiedades_eda.csv', index=False)\n",
    "\n",
    "print(f\"✅ Dataset procesado guardado\")\n",
    "print(f\"Filas originales: {len(df)}\")\n",
    "print(f\"Filas después del EDA: {len(df_clean)}\")\n",
    "print(f\"Reducción: {len(df)-len(df_clean)} filas ({(len(df)-len(df_clean))/len(df)*100:.1f}%)\")"
   ]
  }
 ],
 "metadata": {
  "kernelspec": {
   "display_name": "Python 3",
   "language": "python",
   "name": "python3"
  },
  "language_info": {
   "codemirror_mode": {
    "name": "ipython",
    "version": 3
   },
   "file_extension": ".py",
   "mimetype": "text/x-python",
   "name": "python",
   "nbconvert_exporter": "python",
   "pygments_lexer": "ipython3",
   "version": "3.9.7"
  }
 },
 "nbformat": 4,
 "nbformat_minor": 4
}